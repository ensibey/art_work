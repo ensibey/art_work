{
 "cells": [
  {
   "cell_type": "code",
   "execution_count": null,
   "id": "8060e20e",
   "metadata": {},
   "outputs": [],
   "source": [
    "import os\n",
    "from PIL import Image, ImageDraw, ImageOps\n",
    "import io\n",
    "import random\n",
    "\n",
    "# Get the file location from the user\n",
    "file_location = input(\"Please enter the file location: \").strip('\" ')\n",
    "\n",
    "# Find the files within the specified file location\n",
    "files = os.listdir(file_location)\n",
    "\n",
    "# Set the square size based on the number of images\n",
    "image_count = len(files)\n",
    "if image_count <= 30:\n",
    "    square_size = 100\n",
    "else:\n",
    "    square_size = 200\n",
    "\n",
    "# Define the size of squares and create a blank canvas for the artwork\n",
    "artwork = Image.new('RGBA', (square_size * 5, square_size * 4), (255, 255, 255, 0))\n",
    "\n",
    "# Don't ask the user to select a geometric shape\n",
    "choice = input(\"Do you want to arrange the images as squares (S), circles (C), or triangles (T)? (S/C/T): \")\n",
    "\n",
    "for i, file_name in enumerate(files):\n",
    "    file_path = os.path.join(file_location, file_name)\n",
    "    with open(file_path, 'rb') as file:\n",
    "        image_data = file.read()\n",
    "\n",
    "    image = Image.open(io.BytesIO(image_data))\n",
    "    image = image.resize((square_size, square_size))\n",
    "\n",
    "    if choice.lower() == \"c\":\n",
    "        # Circle selected\n",
    "        mask = Image.new('L', (square_size, square_size), 0)\n",
    "        draw = ImageDraw.Draw(mask)\n",
    "        draw.ellipse((0, 0, square_size, square_size), fill=255)\n",
    "        image.putalpha(mask)\n",
    "    elif choice.lower() == \"t\":\n",
    "        # Triangle selected\n",
    "        mask = Image.new('L', (square_size, square_size), 0)\n",
    "        draw = ImageDraw.Draw(mask)\n",
    "        draw.polygon([\n",
    "            (square_size / 2, 0),\n",
    "            (0, square_size),\n",
    "            (square_size, square_size),\n",
    "        ], fill=255)\n",
    "        image.putalpha(mask)\n",
    "\n",
    "    x = random.randint(0, artwork.width - square_size)\n",
    "    y = random.randint(0, artwork.height - square_size)\n",
    "    artwork.paste(image, (x, y), image)\n",
    "\n",
    "# Save the artwork\n",
    "artwork.save('artwork.png')\n",
    "artwork.show()\n"
   ]
  },
  {
   "cell_type": "code",
   "execution_count": null,
   "id": "d2bf22d0",
   "metadata": {},
   "outputs": [],
   "source": []
  }
 ],
 "metadata": {
  "kernelspec": {
   "display_name": "Python 3 (ipykernel)",
   "language": "python",
   "name": "python3"
  },
  "language_info": {
   "codemirror_mode": {
    "name": "ipython",
    "version": 3
   },
   "file_extension": ".py",
   "mimetype": "text/x-python",
   "name": "python",
   "nbconvert_exporter": "python",
   "pygments_lexer": "ipython3",
   "version": "3.11.5"
  }
 },
 "nbformat": 4,
 "nbformat_minor": 5
}
